{
  "nbformat": 4,
  "nbformat_minor": 0,
  "metadata": {
    "kernelspec": {
      "display_name": "Python 3",
      "language": "python",
      "name": "python3"
    },
    "language_info": {
      "codemirror_mode": {
        "name": "ipython",
        "version": 3
      },
      "file_extension": ".py",
      "mimetype": "text/x-python",
      "name": "python",
      "nbconvert_exporter": "python",
      "pygments_lexer": "ipython3",
      "version": "3.7.4"
    },
    "colab": {
      "name": "SENTIMENT_baseline.ipynb",
      "provenance": [],
      "collapsed_sections": [],
      "toc_visible": true,
      "machine_shape": "hm",
      "include_colab_link": true
    }
  },
  "cells": [
    {
      "cell_type": "markdown",
      "metadata": {
        "id": "view-in-github",
        "colab_type": "text"
      },
      "source": [
        "<a href=\"https://colab.research.google.com/github/DmitryIo/sentiment_twitter/blob/master/SENTIMENT.ipynb\" target=\"_parent\"><img src=\"https://colab.research.google.com/assets/colab-badge.svg\" alt=\"Open In Colab\"/></a>"
      ]
    },
    {
      "cell_type": "code",
      "metadata": {
        "id": "6hPgtOahpdkY",
        "colab_type": "code",
        "cellView": "both",
        "colab": {}
      },
      "source": [
        "#@title imports\n",
        "import pandas as pd\n",
        "import numpy as np\n",
        "from sklearn.linear_model import LogisticRegression\n",
        "from sklearn.feature_extraction.text import TfidfVectorizer\n",
        "from sklearn.model_selection import train_test_split\n",
        "from sklearn.metrics import accuracy_score\n",
        "import nltk\n",
        "from nltk.tokenize import sent_tokenize, word_tokenize\n",
        "from nltk.stem import PorterStemmer\n",
        "from nltk.stem import WordNetLemmatizer \n",
        "nltk.download('wordnet')\n",
        "nltk.download('punkt')"
      ],
      "execution_count": null,
      "outputs": []
    },
    {
      "cell_type": "code",
      "metadata": {
        "id": "f47K_J-mVzAN",
        "colab_type": "code",
        "cellView": "form",
        "colab": {
          "base_uri": "https://localhost:8080/",
          "height": 121
        },
        "outputId": "407d785a-557a-477b-bf3a-25ae341ec632"
      },
      "source": [
        "#@title connecting to google drive(skipped)\n",
        "from google.colab import drive\n",
        "drive.mount('/content/drive')"
      ],
      "execution_count": null,
      "outputs": [
        {
          "output_type": "stream",
          "text": [
            "Go to this URL in a browser: https://accounts.google.com/o/oauth2/auth?client_id=947318989803-6bn6qk8qdgf4n4g3pfee6491hc0brc4i.apps.googleusercontent.com&redirect_uri=urn%3aietf%3awg%3aoauth%3a2.0%3aoob&response_type=code&scope=email%20https%3a%2f%2fwww.googleapis.com%2fauth%2fdocs.test%20https%3a%2f%2fwww.googleapis.com%2fauth%2fdrive%20https%3a%2f%2fwww.googleapis.com%2fauth%2fdrive.photos.readonly%20https%3a%2f%2fwww.googleapis.com%2fauth%2fpeopleapi.readonly\n",
            "\n",
            "Enter your authorization code:\n",
            "··········\n",
            "Mounted at /content/drive\n"
          ],
          "name": "stdout"
        }
      ]
    },
    {
      "cell_type": "code",
      "metadata": {
        "id": "X19nifMjpdke",
        "colab_type": "code",
        "cellView": "form",
        "colab": {}
      },
      "source": [
        "#@title reading train/test from google drive\n",
        "X_train = pd.read_csv('/content/drive/My Drive/banana projects/sentiment analyz/X_train.csv')\n",
        "X_test = pd.read_csv('/content/drive/My Drive/banana projects/sentiment analyz/X_test (1).csv')\n",
        "y_train = pd.read_csv('/content/drive/My Drive/banana projects/sentiment analyz/y_train.csv') \n",
        "sample = pd.read_csv('/content/sample_random.csv')"
      ],
      "execution_count": null,
      "outputs": []
    },
    {
      "cell_type": "markdown",
      "metadata": {
        "id": "CzijJefxpdko",
        "colab_type": "text"
      },
      "source": [
        "### Preprocessing"
      ]
    },
    {
      "cell_type": "code",
      "metadata": {
        "id": "LPqGiVlCg7CB",
        "colab_type": "code",
        "colab": {
          "base_uri": "https://localhost:8080/",
          "height": 34
        },
        "outputId": "216b426f-6c10-441f-e4c8-7cb256df8a5f"
      },
      "source": [
        "\n",
        "# функция для удаления URL из строк\n",
        "\n",
        "import re\n",
        "def remove_urls (vTEXT):\n",
        "    vTEXT = re.sub(r'(https|http|http |https | https| http)?(:| :|: )\\/\\/(\\w|\\.|\\/|\\?|\\=|\\&|\\%)*\\b', '', vTEXT, flags=re.MULTILINE)\n",
        "    return(vTEXT)\n",
        "\n",
        "\n",
        "print( remove_urls(\"this is a test https : //sdfs.sdfsdf.com/sdfsdf/sdfsdf/sd/sdfsdfs?bob=%20tree&jef=man lets see this too https://sdfsdf.fdf.com/sdf/f end\"))"
      ],
      "execution_count": null,
      "outputs": [
        {
          "output_type": "stream",
          "text": [
            "this is a test  lets see this too end\n"
          ],
          "name": "stdout"
        }
      ]
    },
    {
      "cell_type": "code",
      "metadata": {
        "id": "XeCCkwjUZ9tn",
        "colab_type": "code",
        "colab": {}
      },
      "source": [
        "\n",
        "# Стемминг(т.е. выделение корня слова. Обычно используется вместо лемматизации)\n",
        "def stemSentence(sentence):\n",
        "    porter = PorterStemmer()\n",
        "    token_words=word_tokenize(sentence)\n",
        "    token_words\n",
        "    stem_sentence=[]\n",
        "    for word in token_words:\n",
        "        stem_sentence.append(porter.stem(word))\n",
        "        stem_sentence.append(\" \")\n",
        "    return \"\".join(stem_sentence)"
      ],
      "execution_count": null,
      "outputs": []
    },
    {
      "cell_type": "code",
      "metadata": {
        "id": "8-LPVOi31IGo",
        "colab_type": "code",
        "colab": {
          "base_uri": "https://localhost:8080/",
          "height": 34
        },
        "outputId": "6a0b9949-91af-49c9-a0d8-21bcec9d2fb7"
      },
      "source": [
        "# Лемматизация \n",
        "sentence = \"The striped bats are hanging on their feet for best\"\n",
        "def lemSentence(sentence): \n",
        "  lemmatizer = WordNetLemmatizer()\n",
        "  word_list = nltk.word_tokenize(sentence)\n",
        "  return ' '.join([lemmatizer.lemmatize(w) for w in word_list])\n",
        "lemSentence(sentence)"
      ],
      "execution_count": null,
      "outputs": [
        {
          "output_type": "execute_result",
          "data": {
            "text/plain": [
              "'The striped bat are hanging on their foot for best'"
            ]
          },
          "metadata": {
            "tags": []
          },
          "execution_count": 7
        }
      ]
    },
    {
      "cell_type": "code",
      "metadata": {
        "id": "7DvBiQm4pdko",
        "colab_type": "code",
        "colab": {}
      },
      "source": [
        "# Удаление обращений в строке(в твиттере строка начинается с @'имя пользователя' 'текст поста')\n",
        "def remove_reply(vTEXT):\n",
        "    vTEXT = re.sub(r\"(@(\\w+)|@ (\\w+)| @(\\w+))\", '', vTEXT, flags=re.MULTILINE)\n",
        "    return ' '.join([w for w in vTEXT.split() if w != ' '])\n"
      ],
      "execution_count": null,
      "outputs": []
    },
    {
      "cell_type": "code",
      "metadata": {
        "id": "RLfpJ8YDBJHE",
        "colab_type": "code",
        "colab": {}
      },
      "source": [
        "# удаление пунктуации\n",
        "def punctuation(sentence):\n",
        "  punctuations = '''!()-![]{};:+'\"\\,<>./?@#$%^&*_~'''\n",
        "  return ''.join([i for i in sentence if not i in punctuations])\n"
      ],
      "execution_count": null,
      "outputs": []
    },
    {
      "cell_type": "markdown",
      "metadata": {
        "id": "Y2X399NwuQoi",
        "colab_type": "text"
      },
      "source": [
        "# **Preprocessing**"
      ]
    },
    {
      "cell_type": "code",
      "metadata": {
        "id": "fhadc9N0pdks",
        "colab_type": "code",
        "colab": {}
      },
      "source": [
        "X_train['text_preprocessed'] = X_train['SentimentText'].apply(remove_reply)\n",
        "X_test['text_preprocessed'] = X_test['SentimentText'].apply(remove_reply)\n",
        "X_train['text_preprocessed'] = X_train['text_preprocessed'].apply(remove_urls)\n",
        "X_test['text_preprocessed'] = X_test['text_preprocessed'].apply(remove_urls)\n",
        "X_train['text_preprocessed'] = X_train['text_preprocessed'].apply(punctuation)\n",
        "X_test['text_preprocessed'] = X_test['text_preprocessed'].apply(punctuation)\n",
        "X_train['text_preprocessed'] = X_train['text_preprocessed'].apply(lemSentence)\n",
        "X_test['text_preprocessed'] = X_test['text_preprocessed'].apply(lemSentence)\n"
      ],
      "execution_count": null,
      "outputs": []
    },
    {
      "cell_type": "code",
      "metadata": {
        "id": "iyzpBwRxpdkx",
        "colab_type": "code",
        "colab": {}
      },
      "source": [
        "corpus = X_train['text_preprocessed'].values\n",
        "corpus_test = X_test['text_preprocessed'].values"
      ],
      "execution_count": null,
      "outputs": []
    },
    {
      "cell_type": "markdown",
      "metadata": {
        "id": "lPRhOY9lpdk4",
        "colab_type": "text"
      },
      "source": [
        "### Vectorizing and validation"
      ]
    },
    {
      "cell_type": "code",
      "metadata": {
        "id": "fYmxTvt4pdk5",
        "colab_type": "code",
        "colab": {}
      },
      "source": [
        "X_train, X_valid, y_train, y_valid = train_test_split(corpus, y_train['Sentiment'], test_size=0.3, random_state=42)\n",
        "\n",
        "\n",
        "vectorizer = TfidfVectorizer(analyzer='char', ngram_range=(3, 7))\n",
        "X_train_vectorized = vectorizer.fit_transform(X_train)\n",
        "X_valid_vectorized = vectorizer.transform(X_valid)\n",
        "\n"
      ],
      "execution_count": null,
      "outputs": []
    },
    {
      "cell_type": "code",
      "metadata": {
        "id": "TUnS_ME7pdk_",
        "colab_type": "code",
        "colab": {}
      },
      "source": [
        "log_reg = LogisticRegression()\n",
        "log_reg.fit(X_train_vectorized, y_train)"
      ],
      "execution_count": null,
      "outputs": []
    },
    {
      "cell_type": "code",
      "metadata": {
        "id": "omaqhQPmpdlE",
        "colab_type": "code",
        "colab": {}
      },
      "source": [
        "y_pred = log_reg.predict(X_valid_vectorized)"
      ],
      "execution_count": null,
      "outputs": []
    },
    {
      "cell_type": "markdown",
      "metadata": {
        "id": "iP4IRkozuizh",
        "colab_type": "text"
      },
      "source": [
        "**Checking of saving distribution of targets:**"
      ]
    },
    {
      "cell_type": "code",
      "metadata": {
        "id": "lb2ia-0ZpdlH",
        "colab_type": "code",
        "colab": {
          "base_uri": "https://localhost:8080/",
          "height": 68
        },
        "outputId": "b68ab587-441e-4209-ac50-67b0387f55ca"
      },
      "source": [
        "pd.Series(y_pred).value_counts()"
      ],
      "execution_count": null,
      "outputs": [
        {
          "output_type": "execute_result",
          "data": {
            "text/plain": [
              "1    16388\n",
              "0    10609\n",
              "dtype: int64"
            ]
          },
          "metadata": {
            "tags": []
          },
          "execution_count": 29
        }
      ]
    },
    {
      "cell_type": "code",
      "metadata": {
        "id": "Szmy1STQpdlN",
        "colab_type": "code",
        "colab": {
          "base_uri": "https://localhost:8080/",
          "height": 68
        },
        "outputId": "3b71c990-8a42-4a50-a673-b43a9b2b4018"
      },
      "source": [
        "y_valid.value_counts()"
      ],
      "execution_count": null,
      "outputs": [
        {
          "output_type": "execute_result",
          "data": {
            "text/plain": [
              "1    15259\n",
              "0    11738\n",
              "Name: Sentiment, dtype: int64"
            ]
          },
          "metadata": {
            "tags": []
          },
          "execution_count": 30
        }
      ]
    },
    {
      "cell_type": "code",
      "metadata": {
        "id": "KvnisXtJpdlV",
        "colab_type": "code",
        "colab": {
          "base_uri": "https://localhost:8080/",
          "height": 34
        },
        "outputId": "94b0d9ef-18c8-486e-9f74-badd3d7d17d5"
      },
      "source": [
        "accuracy_score(y_valid, y_pred)"
      ],
      "execution_count": null,
      "outputs": [
        {
          "output_type": "execute_result",
          "data": {
            "text/plain": [
              "0.7751231618327963"
            ]
          },
          "metadata": {
            "tags": []
          },
          "execution_count": 31
        }
      ]
    },
    {
      "cell_type": "markdown",
      "metadata": {
        "id": "bAZ_ANyKpdla",
        "colab_type": "text"
      },
      "source": [
        "### Final submit"
      ]
    },
    {
      "cell_type": "code",
      "metadata": {
        "id": "EjV-6BY2pdlb",
        "colab_type": "code",
        "colab": {}
      },
      "source": [
        "y_train = pd.read_csv('/content/drive/My Drive/banana projects/sentiment analyz/y_train.csv') "
      ],
      "execution_count": null,
      "outputs": []
    },
    {
      "cell_type": "code",
      "metadata": {
        "id": "ij9bIG0ypdle",
        "colab_type": "code",
        "colab": {}
      },
      "source": [
        "vectorizer = TfidfVectorizer(analyzer='char', ngram_range=(3, 7))\n",
        "X_train_vectorized = vectorizer.fit_transform(corpus)\n",
        "X_test_vectorized = vectorizer.transform(corpus_test)"
      ],
      "execution_count": null,
      "outputs": []
    },
    {
      "cell_type": "code",
      "metadata": {
        "id": "4Fupb6PXzzaj",
        "colab_type": "code",
        "colab": {}
      },
      "source": [
        "from sklearn.model_selection import GridSearchCV\n",
        "from sklearn.linear_model import LogisticRegression\n",
        "grid={\"C\":np.logspace(-3,3,7), \"penalty\":[\"l1\",\"l2\"]}# l1 lasso l2 ridge\n",
        "log_reg=LogisticRegression()\n",
        "log_reg_cv=GridSearchCV(log_reg,grid,cv=5)\n",
        "log_reg_cv.fit(X_train_vectorized, y_train['Sentiment'])"
      ],
      "execution_count": null,
      "outputs": []
    },
    {
      "cell_type": "code",
      "metadata": {
        "id": "DNQqUiDO-NUQ",
        "colab_type": "code",
        "colab": {}
      },
      "source": [
        "from sklearn.svm import SVC\n",
        "svclassifier = SVC(kernel='sigmoid')\n",
        "svclassifier.fit(X_train_vectorized, y_train['Sentiment'])"
      ],
      "execution_count": null,
      "outputs": []
    },
    {
      "cell_type": "code",
      "metadata": {
        "id": "-ffkb8_e7sTA",
        "colab_type": "code",
        "colab": {
          "base_uri": "https://localhost:8080/",
          "height": 34
        },
        "outputId": "c0201d6f-d836-42a7-b307-9a95090d1836"
      },
      "source": [
        "log_reg_cv.best_params_"
      ],
      "execution_count": null,
      "outputs": [
        {
          "output_type": "execute_result",
          "data": {
            "text/plain": [
              "{'C': 1.0, 'penalty': 'l2'}"
            ]
          },
          "metadata": {
            "tags": []
          },
          "execution_count": 18
        }
      ]
    },
    {
      "cell_type": "code",
      "metadata": {
        "id": "q_v_nb4Apdlh",
        "colab_type": "code",
        "colab": {}
      },
      "source": [
        "log_reg = LogisticRegression(C=1.0, penalty='l2')\n",
        "log_reg.fit(X_train_vectorized, y_train['Sentiment'])"
      ],
      "execution_count": null,
      "outputs": []
    },
    {
      "cell_type": "code",
      "metadata": {
        "id": "W1M3EcEGpdll",
        "colab_type": "code",
        "colab": {}
      },
      "source": [
        "y_preds = log_reg.predict(X_test_vectorized)"
      ],
      "execution_count": null,
      "outputs": []
    },
    {
      "cell_type": "code",
      "metadata": {
        "id": "CMqWlJKjpdlo",
        "colab_type": "code",
        "colab": {}
      },
      "source": [
        "sample['Sentiment'] = y_preds\n",
        "\n",
        "sample.to_csv('baseline_tfidf.csv', index=False)"
      ],
      "execution_count": null,
      "outputs": []
    },
    {
      "cell_type": "code",
      "metadata": {
        "id": "qGNdThTI37Zh",
        "colab_type": "code",
        "colab": {}
      },
      "source": [
        ""
      ],
      "execution_count": null,
      "outputs": []
    }
  ]
}